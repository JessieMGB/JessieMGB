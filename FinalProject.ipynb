{
 "cells": [
  {
   "cell_type": "markdown",
   "metadata": {},
   "source": [
    "# RateBot Final Project Description"
   ]
  },
  {
   "cell_type": "markdown",
   "metadata": {},
   "source": [
    "My project is based off the chatbot that we created in assignment A3. My chatbot's purpose is to rate different movies that are available in the library that I created for it. At the moment the library is limited, but more movie suggestions are welcomed. \n",
    "\n",
    "My chatbot does not function for anything other than to rate movies. Also, the ratings are based on my criteria of a good movie, I did not get the ratings from any site.\n",
    "\n",
    "I created my own original functions to be able to complete some tasks that were not possible with only the functions from A3.\n",
    "\n",
    "Thank you and enjoy Ratebot!"
   ]
  },
  {
   "cell_type": "markdown",
   "metadata": {},
   "source": [
    "# Code Description and Instructions\n",
    "\n",
    "The following imports will bring in all of the functions and test functions I used to create RateBot."
   ]
  },
  {
   "cell_type": "code",
   "execution_count": 1,
   "metadata": {},
   "outputs": [],
   "source": [
    "from my_module.ratebot_functions import *\n",
    "from my_module.test_ratebot_functions import *"
   ]
  },
  {
   "cell_type": "code",
   "execution_count": 2,
   "metadata": {},
   "outputs": [
    {
     "name": "stdout",
     "output_type": "stream",
     "text": [
      "Hello, I'm RateBot. The completely non-biased movie rating AI.\n",
      "These are the movies currently avialable for rating. Type any name to start.\n",
      "Avengers ToyStory Us Titanic TheConjuring AQuietPlace Coco WonderWoman MeanGirls Shrek TheBasketballDiaries CatchMeIfYouCan LegoMovie Avatar FantasticFour Hereditary TheNightmareBeforeChristmas Justice-League BatmanVs.Superman SupermanManofSteel TheCurseOfLaLlorona TheNun Split DarkPheonix PulpFiction BreakfastClub Grease ForestGump Frozen Aquaman Glass DoctorStrange\n",
      "When you are finished type 'quit' to exit.\n",
      "aj\n",
      "This movie does not exists in my database. Please try the another one.\n",
      "ks\n",
      "This movie does not exists in my database. Please try the another one.\n",
      "avengers\n",
      "Yes, I do love this movie.\n",
      "dark pheonix\n",
      "This movie is not good, 0/10.\n",
      "thenightmarebeforechristmas\n",
      "At least they tried.\n",
      "Wonder Woman\n",
      "I love this movie.\n",
      "quit\n",
      "Have a good day!\n"
     ]
    }
   ],
   "source": [
    "#this is the main function that will run Ratebot\n",
    "activate_ratebot()"
   ]
  },
  {
   "cell_type": "code",
   "execution_count": null,
   "metadata": {},
   "outputs": [],
   "source": []
  }
 ],
 "metadata": {
  "kernelspec": {
   "display_name": "Python 3",
   "language": "python",
   "name": "python3"
  },
  "language_info": {
   "codemirror_mode": {
    "name": "ipython",
    "version": 3
   },
   "file_extension": ".py",
   "mimetype": "text/x-python",
   "name": "python",
   "nbconvert_exporter": "python",
   "pygments_lexer": "ipython3",
   "version": "3.6.7"
  }
 },
 "nbformat": 4,
 "nbformat_minor": 2
}
